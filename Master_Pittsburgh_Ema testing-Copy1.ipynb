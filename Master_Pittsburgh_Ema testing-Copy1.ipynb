{
 "cells": [
  {
   "cell_type": "code",
   "execution_count": 1,
   "metadata": {},
   "outputs": [
    {
     "name": "stdout",
     "output_type": "stream",
     "text": [
      "Populating the interactive namespace from numpy and matplotlib\n"
     ]
    }
   ],
   "source": [
    "# Import Dependencies\n",
    "%pylab inline\n",
    "import matplotlib.pyplot as plt\n",
    "import pandas as pd\n",
    "import numpy as np\n",
    "import requests\n",
    "import time\n",
    "from datetime import date\n",
    "import calendar"
   ]
  },
  {
   "cell_type": "code",
   "execution_count": 2,
   "metadata": {},
   "outputs": [
    {
     "data": {
      "text/html": [
       "<div>\n",
       "<style scoped>\n",
       "    .dataframe tbody tr th:only-of-type {\n",
       "        vertical-align: middle;\n",
       "    }\n",
       "\n",
       "    .dataframe tbody tr th {\n",
       "        vertical-align: top;\n",
       "    }\n",
       "\n",
       "    .dataframe thead th {\n",
       "        text-align: right;\n",
       "    }\n",
       "</style>\n",
       "<table border=\"1\" class=\"dataframe\">\n",
       "  <thead>\n",
       "    <tr style=\"text-align: right;\">\n",
       "      <th></th>\n",
       "      <th>Unnamed: 0</th>\n",
       "      <th>Age</th>\n",
       "      <th>Gender</th>\n",
       "      <th>Race</th>\n",
       "      <th>Offenses Severity</th>\n",
       "      <th>Arrest Day of Week</th>\n",
       "      <th>Arrest Date</th>\n",
       "      <th>Arrest Month</th>\n",
       "      <th>Arrest Year</th>\n",
       "      <th>Temperature</th>\n",
       "      <th>Weather Condition</th>\n",
       "      <th>Incident Location</th>\n",
       "      <th>Incident Latitude</th>\n",
       "      <th>Incident Longitude</th>\n",
       "      <th>Incident Neighborhood</th>\n",
       "      <th>Incident Zone</th>\n",
       "    </tr>\n",
       "  </thead>\n",
       "  <tbody>\n",
       "    <tr>\n",
       "      <th>0</th>\n",
       "      <td>0</td>\n",
       "      <td>24</td>\n",
       "      <td>F</td>\n",
       "      <td>B</td>\n",
       "      <td>M</td>\n",
       "      <td>Friday</td>\n",
       "      <td>12</td>\n",
       "      <td>February</td>\n",
       "      <td>2016</td>\n",
       "      <td>20.53</td>\n",
       "      <td>Mostly Cloudy</td>\n",
       "      <td>1100 Block McKinney LANE Pittsburgh, PA 15205</td>\n",
       "      <td>40.423529</td>\n",
       "      <td>-80.035034</td>\n",
       "      <td>Ridgemont</td>\n",
       "      <td>6</td>\n",
       "    </tr>\n",
       "    <tr>\n",
       "      <th>1</th>\n",
       "      <td>1</td>\n",
       "      <td>31</td>\n",
       "      <td>M</td>\n",
       "      <td>W</td>\n",
       "      <td>M</td>\n",
       "      <td>Wednesday</td>\n",
       "      <td>17</td>\n",
       "      <td>February</td>\n",
       "      <td>2016</td>\n",
       "      <td>32.76</td>\n",
       "      <td>Overcast</td>\n",
       "      <td>800 Block Concord ST Pittsburgh, PA 15212</td>\n",
       "      <td>40.457564</td>\n",
       "      <td>-79.997924</td>\n",
       "      <td>East Allegheny</td>\n",
       "      <td>1</td>\n",
       "    </tr>\n",
       "  </tbody>\n",
       "</table>\n",
       "</div>"
      ],
      "text/plain": [
       "   Unnamed: 0  Age Gender Race Offenses Severity Arrest Day of Week  \\\n",
       "0           0   24      F    B                 M             Friday   \n",
       "1           1   31      M    W                 M          Wednesday   \n",
       "\n",
       "   Arrest Date Arrest Month  Arrest Year  Temperature Weather Condition  \\\n",
       "0           12     February         2016        20.53     Mostly Cloudy   \n",
       "1           17     February         2016        32.76          Overcast   \n",
       "\n",
       "                               Incident Location  Incident Latitude  \\\n",
       "0  1100 Block McKinney LANE Pittsburgh, PA 15205          40.423529   \n",
       "1      800 Block Concord ST Pittsburgh, PA 15212          40.457564   \n",
       "\n",
       "   Incident Longitude Incident Neighborhood Incident Zone  \n",
       "0          -80.035034             Ridgemont             6  \n",
       "1          -79.997924        East Allegheny             1  "
      ]
     },
     "execution_count": 2,
     "metadata": {},
     "output_type": "execute_result"
    }
   ],
   "source": [
    "# Import & Read CSV generated from DarkSky Weather API\n",
    "Pitts = \"Ste_Crime_severity_Output.csv\"\n",
    "Ste_Crime_severity_Output_df = pd.read_csv(Pitts)\n",
    "Ste_Crime_severity_Output_df.head(2)"
   ]
  },
  {
   "cell_type": "code",
   "execution_count": 3,
   "metadata": {},
   "outputs": [
    {
     "data": {
      "text/html": [
       "<div>\n",
       "<style scoped>\n",
       "    .dataframe tbody tr th:only-of-type {\n",
       "        vertical-align: middle;\n",
       "    }\n",
       "\n",
       "    .dataframe tbody tr th {\n",
       "        vertical-align: top;\n",
       "    }\n",
       "\n",
       "    .dataframe thead th {\n",
       "        text-align: right;\n",
       "    }\n",
       "</style>\n",
       "<table border=\"1\" class=\"dataframe\">\n",
       "  <thead>\n",
       "    <tr style=\"text-align: right;\">\n",
       "      <th></th>\n",
       "      <th>Age</th>\n",
       "      <th>Gender</th>\n",
       "      <th>Race</th>\n",
       "      <th>Offenses Severity</th>\n",
       "      <th>Arrest Day of Week</th>\n",
       "      <th>Arrest Date</th>\n",
       "      <th>Arrest Month</th>\n",
       "      <th>Arrest Year</th>\n",
       "      <th>Temperature</th>\n",
       "      <th>Weather Condition</th>\n",
       "      <th>Incident Location</th>\n",
       "      <th>Incident Latitude</th>\n",
       "      <th>Incident Longitude</th>\n",
       "      <th>Incident Neighborhood</th>\n",
       "      <th>Incident Zone</th>\n",
       "    </tr>\n",
       "  </thead>\n",
       "  <tbody>\n",
       "    <tr>\n",
       "      <th>0</th>\n",
       "      <td>24</td>\n",
       "      <td>F</td>\n",
       "      <td>B</td>\n",
       "      <td>M</td>\n",
       "      <td>Friday</td>\n",
       "      <td>12</td>\n",
       "      <td>February</td>\n",
       "      <td>2016</td>\n",
       "      <td>20.53</td>\n",
       "      <td>Mostly Cloudy</td>\n",
       "      <td>1100 Block McKinney LANE Pittsburgh, PA 15205</td>\n",
       "      <td>40.423529</td>\n",
       "      <td>-80.035034</td>\n",
       "      <td>Ridgemont</td>\n",
       "      <td>6</td>\n",
       "    </tr>\n",
       "    <tr>\n",
       "      <th>1</th>\n",
       "      <td>31</td>\n",
       "      <td>M</td>\n",
       "      <td>W</td>\n",
       "      <td>M</td>\n",
       "      <td>Wednesday</td>\n",
       "      <td>17</td>\n",
       "      <td>February</td>\n",
       "      <td>2016</td>\n",
       "      <td>32.76</td>\n",
       "      <td>Overcast</td>\n",
       "      <td>800 Block Concord ST Pittsburgh, PA 15212</td>\n",
       "      <td>40.457564</td>\n",
       "      <td>-79.997924</td>\n",
       "      <td>East Allegheny</td>\n",
       "      <td>1</td>\n",
       "    </tr>\n",
       "  </tbody>\n",
       "</table>\n",
       "</div>"
      ],
      "text/plain": [
       "   Age Gender Race Offenses Severity Arrest Day of Week  Arrest Date  \\\n",
       "0   24      F    B                 M             Friday           12   \n",
       "1   31      M    W                 M          Wednesday           17   \n",
       "\n",
       "  Arrest Month  Arrest Year  Temperature Weather Condition  \\\n",
       "0     February         2016        20.53     Mostly Cloudy   \n",
       "1     February         2016        32.76          Overcast   \n",
       "\n",
       "                               Incident Location  Incident Latitude  \\\n",
       "0  1100 Block McKinney LANE Pittsburgh, PA 15205          40.423529   \n",
       "1      800 Block Concord ST Pittsburgh, PA 15212          40.457564   \n",
       "\n",
       "   Incident Longitude Incident Neighborhood Incident Zone  \n",
       "0          -80.035034             Ridgemont             6  \n",
       "1          -79.997924        East Allegheny             1  "
      ]
     },
     "execution_count": 3,
     "metadata": {},
     "output_type": "execute_result"
    }
   ],
   "source": [
    "del Ste_Crime_severity_Output_df['Unnamed: 0']\n",
    "Ste_Crime_severity_Output_df.head(2)"
   ]
  },
  {
   "cell_type": "code",
   "execution_count": null,
   "metadata": {},
   "outputs": [],
   "source": []
  },
  {
   "cell_type": "code",
   "execution_count": 4,
   "metadata": {},
   "outputs": [],
   "source": [
    "#Ste_Crime_severity_Output_df.describe()"
   ]
  },
  {
   "cell_type": "code",
   "execution_count": 5,
   "metadata": {},
   "outputs": [],
   "source": [
    "new_crime_df = Ste_Crime_severity_Output_df[(Ste_Crime_severity_Output_df.Age > 0) & \n",
    "                                            (Ste_Crime_severity_Output_df.Age <= 100)]"
   ]
  },
  {
   "cell_type": "code",
   "execution_count": 6,
   "metadata": {},
   "outputs": [],
   "source": [
    "#new_crime_df.describe()"
   ]
  },
  {
   "cell_type": "code",
   "execution_count": null,
   "metadata": {},
   "outputs": [],
   "source": []
  },
  {
   "cell_type": "code",
   "execution_count": 7,
   "metadata": {},
   "outputs": [],
   "source": [
    "# Weather vs Crime Frequency / Crime Type\n",
    "    # Temperature (Hot vs Cold)\n",
    "        # X-Axis: Temperature (Ex. Very Cold, Cold, Moderate, Hot, Very Hot, etc.)\n",
    "        # Y-Axis: Amount of Crime (measured by incident number)\n",
    "    # Weather Condition: \n",
    "        # X-Axis: Type of weather (ie rain, sun, snow, etc.)\n",
    "        # Y-Axis: Amount of Crime (measured by incident number)\n"
   ]
  },
  {
   "cell_type": "code",
   "execution_count": 8,
   "metadata": {},
   "outputs": [],
   "source": [
    "# Crime Frequency vs Incident Location (Heatmap) (Liam)\n",
    "    # Crime Frequency vs Police Zone (Heatmap) (Liam)\n"
   ]
  },
  {
   "cell_type": "code",
   "execution_count": 9,
   "metadata": {},
   "outputs": [],
   "source": [
    "# Crime Severity vs Incident Location (Heatmap) (Liam)\n"
   ]
  },
  {
   "cell_type": "code",
   "execution_count": 10,
   "metadata": {},
   "outputs": [],
   "source": [
    "# Age, Gender and Race vs Crime (Pie Charts?)\n",
    "    # Crime Frequency\n",
    "        # Grouped by incident location & date\n",
    "    # Crime Type\n",
    "    # Crime Severity (Felonies, Misdemeanors or Violations/Infractions)"
   ]
  },
  {
   "cell_type": "code",
   "execution_count": null,
   "metadata": {},
   "outputs": [],
   "source": []
  },
  {
   "cell_type": "code",
   "execution_count": 11,
   "metadata": {},
   "outputs": [
    {
     "data": {
      "image/png": "[encoded data removed]",
      "text/plain": [
       "<Figure size 432x288 with 1 Axes>"
      ]
     },
     "metadata": {},
     "output_type": "display_data"
    }
   ],
   "source": [
    "gender_count = new_crime_df[\"Gender\"].value_counts()\n",
    "total_gender_count = new_crime_df[\"Gender\"].count()\n",
    "gender_percentage = (gender_count/total_gender_count) *100\n",
    "\n",
    "Gender = [\"Male\", \"Female\", \"Unknown\"]\n",
    "Percent = [gender_percentage]\n",
    "colors = [\"LightBlue\", \"Pink\", \"Black\"]\n",
    "explode = (0.1, 0.1, 0.1)\n",
    "\n",
    "\n",
    "plt.pie(gender_percentage, explode=explode, labels=Gender, colors=colors, autopct=\"%1.1f%%\", shadow=True, startangle= 240)\n",
    "plt.axis(\"equal\")\n",
    "plt.title(\"Pittsburgh Crime by Gender\")\n",
    "\n",
    "plt.show()"
   ]
  },
  {
   "cell_type": "code",
   "execution_count": 12,
   "metadata": {},
   "outputs": [
    {
     "data": {
      "text/plain": [
       "array(['M', 'F', 'Murder of 1st Degree'], dtype=object)"
      ]
     },
     "execution_count": 12,
     "metadata": {},
     "output_type": "execute_result"
    }
   ],
   "source": [
    "new_crime_df[\"Offenses Severity\"].unique()"
   ]
  },
  {
   "cell_type": "code",
   "execution_count": 13,
   "metadata": {},
   "outputs": [
    {
     "data": {
      "text/plain": [
       "M                       13099\n",
       "F                        5376\n",
       "Murder of 1st Degree        2\n",
       "Name: Offenses Severity, dtype: int64"
      ]
     },
     "execution_count": 13,
     "metadata": {},
     "output_type": "execute_result"
    }
   ],
   "source": [
    "crime_type_count = new_crime_df[\"Offenses Severity\"].value_counts()\n",
    "crime_type_count"
   ]
  },
  {
   "cell_type": "code",
   "execution_count": 14,
   "metadata": {},
   "outputs": [
    {
     "data": {
      "text/plain": [
       "18477"
      ]
     },
     "execution_count": 14,
     "metadata": {},
     "output_type": "execute_result"
    }
   ],
   "source": [
    "total_crime_count = new_crime_df[\"Offenses Severity\"].count()\n",
    "total_crime_count"
   ]
  },
  {
   "cell_type": "code",
   "execution_count": 15,
   "metadata": {},
   "outputs": [
    {
     "data": {
      "text/plain": [
       "M                       70.893543\n",
       "F                       29.095632\n",
       "Murder of 1st Degree     0.010824\n",
       "Name: Offenses Severity, dtype: float64"
      ]
     },
     "execution_count": 15,
     "metadata": {},
     "output_type": "execute_result"
    }
   ],
   "source": [
    "crime_percentage = (crime_type_count/total_crime_count) *100\n",
    "crime_percentage"
   ]
  },
  {
   "cell_type": "code",
   "execution_count": 16,
   "metadata": {},
   "outputs": [
    {
     "data": {
      "image/png": "[encoded data removed]",
      "text/plain": [
       "<Figure size 432x288 with 1 Axes>"
      ]
     },
     "metadata": {},
     "output_type": "display_data"
    }
   ],
   "source": [
    "crime_type_count = new_crime_df[\"Offenses Severity\"].value_counts()\n",
    "total_crime_count = new_crime_df[\"Offenses Severity\"].count()\n",
    "crime_percentage = (crime_type_count/total_crime_count) *100\n",
    "\n",
    "Offenses = [\"Misdemeanor\", \"Felony\", \"Murder of 1st Degree\"]\n",
    "Percent = [crime_percentage]\n",
    "colors = [\"Yellow\", \"Orange\", \"Red\"]\n",
    "explode = (0.1, 0.1, 0.1)\n",
    "\n",
    "\n",
    "plt.pie(crime_percentage, explode=explode, labels=Offenses, colors=colors, autopct=\"%1.1f%%\", shadow=True, startangle= 240)\n",
    "plt.axis(\"equal\")\n",
    "plt.title(\"Pittsburgh Crime Severitiy\")\n",
    "\n",
    "plt.show()"
   ]
  },
  {
   "cell_type": "code",
   "execution_count": null,
   "metadata": {},
   "outputs": [],
   "source": []
  },
  {
   "cell_type": "code",
   "execution_count": null,
   "metadata": {},
   "outputs": [],
   "source": []
  },
  {
   "cell_type": "code",
   "execution_count": 18,
   "metadata": {},
   "outputs": [
    {
     "ename": "AttributeError",
     "evalue": "'SeriesPlotMethods' object has no attribute 'set_xlabel'",
     "output_type": "error",
     "traceback": [
      "\u001b[1;31m---------------------------------------------------------------------------\u001b[0m",
      "\u001b[1;31mAttributeError\u001b[0m                            Traceback (most recent call last)",
      "\u001b[1;32m<ipython-input-18-bd043ebcd993>\u001b[0m in \u001b[0;36m<module>\u001b[1;34m\u001b[0m\n\u001b[0;32m      3\u001b[0m \u001b[0mrace_type_crime\u001b[0m \u001b[1;33m=\u001b[0m \u001b[0mrace_group\u001b[0m\u001b[1;33m[\u001b[0m\u001b[1;34m\"Offenses Severity\"\u001b[0m\u001b[1;33m]\u001b[0m\u001b[1;33m.\u001b[0m\u001b[0mcount\u001b[0m\u001b[1;33m(\u001b[0m\u001b[1;33m)\u001b[0m\u001b[1;33m\u001b[0m\u001b[1;33m\u001b[0m\u001b[0m\n\u001b[0;32m      4\u001b[0m \u001b[0mrace_plot\u001b[0m \u001b[1;33m=\u001b[0m \u001b[0mrace_type_crime\u001b[0m\u001b[1;33m.\u001b[0m\u001b[0mplot\u001b[0m\u001b[1;33m(\u001b[0m\u001b[0mkind\u001b[0m\u001b[1;33m=\u001b[0m\u001b[1;34m\"bar\"\u001b[0m\u001b[1;33m,\u001b[0m \u001b[0mtitle\u001b[0m\u001b[1;33m=\u001b[0m\u001b[1;34m\"Race vs Crime \"\u001b[0m\u001b[1;33m,\u001b[0m \u001b[0mrot\u001b[0m\u001b[1;33m=\u001b[0m\u001b[1;34m'45'\u001b[0m\u001b[1;33m,\u001b[0m \u001b[0mcolor\u001b[0m\u001b[1;33m=\u001b[0m\u001b[1;34m'orange'\u001b[0m\u001b[1;33m,\u001b[0m \u001b[0mfigsize\u001b[0m\u001b[1;33m=\u001b[0m\u001b[1;33m(\u001b[0m\u001b[1;36m10\u001b[0m\u001b[1;33m,\u001b[0m\u001b[1;36m4\u001b[0m\u001b[1;33m)\u001b[0m\u001b[1;33m,\u001b[0m\u001b[0mgrid\u001b[0m\u001b[1;33m=\u001b[0m\u001b[1;32mTrue\u001b[0m\u001b[1;33m)\u001b[0m\u001b[1;33m\u001b[0m\u001b[1;33m\u001b[0m\u001b[0m\n\u001b[1;32m----> 5\u001b[1;33m \u001b[0mrace_type_crime\u001b[0m\u001b[1;33m.\u001b[0m\u001b[0mplot\u001b[0m\u001b[1;33m.\u001b[0m\u001b[0mset_xlabel\u001b[0m\u001b[1;33m(\u001b[0m\u001b[1;34m\"Races\"\u001b[0m\u001b[1;33m)\u001b[0m\u001b[1;33m\u001b[0m\u001b[1;33m\u001b[0m\u001b[0m\n\u001b[0m\u001b[0;32m      6\u001b[0m \u001b[0mrace_type_crime\u001b[0m\u001b[1;33m.\u001b[0m\u001b[0mplot\u001b[0m\u001b[1;33m.\u001b[0m\u001b[0mset_ylabel\u001b[0m\u001b[1;33m(\u001b[0m\u001b[1;34m\"Number of crimes\"\u001b[0m\u001b[1;33m)\u001b[0m\u001b[1;33m\u001b[0m\u001b[1;33m\u001b[0m\u001b[0m\n\u001b[0;32m      7\u001b[0m \u001b[0mplt\u001b[0m\u001b[1;33m.\u001b[0m\u001b[0mshow\u001b[0m\u001b[1;33m(\u001b[0m\u001b[1;33m)\u001b[0m\u001b[1;33m\u001b[0m\u001b[1;33m\u001b[0m\u001b[0m\n",
      "\u001b[1;31mAttributeError\u001b[0m: 'SeriesPlotMethods' object has no attribute 'set_xlabel'"
     ]
    },
    {
     "data": {
      "image/png": "[encoded data removed]",
      "text/plain": [
       "<Figure size 720x288 with 1 Axes>"
      ]
     },
     "metadata": {
      "needs_background": "light"
     },
     "output_type": "display_data"
    }
   ],
   "source": [
    "\n",
    "race_group = new_crime_df.groupby(\"Race\")\n",
    "race_type_crime = race_group[\"Offenses Severity\"].count()\n",
    "race_plot = race_type_crime.plot(kind=\"bar\", title=\"Race vs Crime \", rot='45', color='orange', figsize=(10,4),grid=True)\n",
    "race_type_crime.plot.set_xlabel(\"Races\")\n",
    "race_type_crime.plot.set_ylabel(\"Number of crimes\")\n",
    "plt.show()"
   ]
  },
  {
   "cell_type": "code",
   "execution_count": null,
   "metadata": {},
   "outputs": [],
   "source": []
  },
  {
   "cell_type": "code",
   "execution_count": null,
   "metadata": {},
   "outputs": [],
   "source": []
  },
  {
   "cell_type": "code",
   "execution_count": null,
   "metadata": {},
   "outputs": [],
   "source": []
  },
  {
   "cell_type": "code",
   "execution_count": 19,
   "metadata": {},
   "outputs": [
    {
     "data": {
      "text/html": [
       "<div>\n",
       "<style scoped>\n",
       "    .dataframe tbody tr th:only-of-type {\n",
       "        vertical-align: middle;\n",
       "    }\n",
       "\n",
       "    .dataframe tbody tr th {\n",
       "        vertical-align: top;\n",
       "    }\n",
       "\n",
       "    .dataframe thead th {\n",
       "        text-align: right;\n",
       "    }\n",
       "</style>\n",
       "<table border=\"1\" class=\"dataframe\">\n",
       "  <thead>\n",
       "    <tr style=\"text-align: right;\">\n",
       "      <th></th>\n",
       "      <th>Age</th>\n",
       "      <th>Race</th>\n",
       "      <th>Gender</th>\n",
       "      <th>Offenses Severity</th>\n",
       "      <th>Arrest Year</th>\n",
       "      <th>Arrest Month</th>\n",
       "      <th>Weather Condition</th>\n",
       "      <th>Temperature</th>\n",
       "    </tr>\n",
       "  </thead>\n",
       "  <tbody>\n",
       "    <tr>\n",
       "      <th>0</th>\n",
       "      <td>24</td>\n",
       "      <td>B</td>\n",
       "      <td>F</td>\n",
       "      <td>M</td>\n",
       "      <td>2016</td>\n",
       "      <td>February</td>\n",
       "      <td>Mostly Cloudy</td>\n",
       "      <td>20.53</td>\n",
       "    </tr>\n",
       "    <tr>\n",
       "      <th>1</th>\n",
       "      <td>31</td>\n",
       "      <td>W</td>\n",
       "      <td>M</td>\n",
       "      <td>M</td>\n",
       "      <td>2016</td>\n",
       "      <td>February</td>\n",
       "      <td>Overcast</td>\n",
       "      <td>32.76</td>\n",
       "    </tr>\n",
       "    <tr>\n",
       "      <th>2</th>\n",
       "      <td>22</td>\n",
       "      <td>W</td>\n",
       "      <td>M</td>\n",
       "      <td>F</td>\n",
       "      <td>2016</td>\n",
       "      <td>April</td>\n",
       "      <td>Light Rain</td>\n",
       "      <td>50.96</td>\n",
       "    </tr>\n",
       "    <tr>\n",
       "      <th>3</th>\n",
       "      <td>36</td>\n",
       "      <td>W</td>\n",
       "      <td>M</td>\n",
       "      <td>M</td>\n",
       "      <td>2016</td>\n",
       "      <td>April</td>\n",
       "      <td>Overcast</td>\n",
       "      <td>39.39</td>\n",
       "    </tr>\n",
       "    <tr>\n",
       "      <th>4</th>\n",
       "      <td>60</td>\n",
       "      <td>W</td>\n",
       "      <td>M</td>\n",
       "      <td>M</td>\n",
       "      <td>2016</td>\n",
       "      <td>April</td>\n",
       "      <td>Overcast</td>\n",
       "      <td>32.63</td>\n",
       "    </tr>\n",
       "  </tbody>\n",
       "</table>\n",
       "</div>"
      ],
      "text/plain": [
       "   Age Race Gender Offenses Severity  Arrest Year Arrest Month  \\\n",
       "0   24    B      F                 M         2016     February   \n",
       "1   31    W      M                 M         2016     February   \n",
       "2   22    W      M                 F         2016        April   \n",
       "3   36    W      M                 M         2016        April   \n",
       "4   60    W      M                 M         2016        April   \n",
       "\n",
       "  Weather Condition  Temperature  \n",
       "0     Mostly Cloudy        20.53  \n",
       "1          Overcast        32.76  \n",
       "2        Light Rain        50.96  \n",
       "3          Overcast        39.39  \n",
       "4          Overcast        32.63  "
      ]
     },
     "execution_count": 19,
     "metadata": {},
     "output_type": "execute_result"
    }
   ],
   "source": [
    "crime_df = new_crime_df.loc[:,[\"Age\",\"Race\", \"Gender\", \"Offenses Severity\", \"Arrest Year\", \n",
    "                               \"Arrest Month\", \"Weather Condition\",\"Temperature\"]]\n",
    "crime_df.head()"
   ]
  },
  {
   "cell_type": "code",
   "execution_count": 20,
   "metadata": {},
   "outputs": [],
   "source": [
    "#Establish bins for ages\n",
    "bins = [18,25,30,35,40,45,50,55,60,65,70,80,90,100]\n",
    "group_labels = [\"<18\",\"18-25\",\"25-30\",\"30-35\",\"35-40\",\"40-45\",\"45-50\",\"50-55\", \"55-60\",\"60-65\",\"65-70\", \"70-80\", \">80\"]"
   ]
  },
  {
   "cell_type": "code",
   "execution_count": 21,
   "metadata": {},
   "outputs": [
    {
     "data": {
      "text/plain": [
       "0      <18\n",
       "1    25-30\n",
       "2      <18\n",
       "3    30-35\n",
       "4    50-55\n",
       "5    45-50\n",
       "6      <18\n",
       "7    18-25\n",
       "8    18-25\n",
       "9    25-30\n",
       "Name: Age, dtype: category\n",
       "Categories (13, object): [<18 < 18-25 < 25-30 < 30-35 ... 60-65 < 65-70 < 70-80 < >80]"
      ]
     },
     "execution_count": 21,
     "metadata": {},
     "output_type": "execute_result"
    }
   ],
   "source": [
    "pd.cut(crime_df[\"Age\"], bins, labels = group_labels).head(10)"
   ]
  },
  {
   "cell_type": "code",
   "execution_count": 22,
   "metadata": {},
   "outputs": [
    {
     "data": {
      "text/html": [
       "<div>\n",
       "<style scoped>\n",
       "    .dataframe tbody tr th:only-of-type {\n",
       "        vertical-align: middle;\n",
       "    }\n",
       "\n",
       "    .dataframe tbody tr th {\n",
       "        vertical-align: top;\n",
       "    }\n",
       "\n",
       "    .dataframe thead th {\n",
       "        text-align: right;\n",
       "    }\n",
       "</style>\n",
       "<table border=\"1\" class=\"dataframe\">\n",
       "  <thead>\n",
       "    <tr style=\"text-align: right;\">\n",
       "      <th></th>\n",
       "      <th>Age</th>\n",
       "      <th>Race</th>\n",
       "      <th>Gender</th>\n",
       "      <th>Offenses Severity</th>\n",
       "      <th>Arrest Year</th>\n",
       "      <th>Arrest Month</th>\n",
       "      <th>Weather Condition</th>\n",
       "      <th>Temperature</th>\n",
       "      <th>Age_group</th>\n",
       "    </tr>\n",
       "  </thead>\n",
       "  <tbody>\n",
       "    <tr>\n",
       "      <th>0</th>\n",
       "      <td>24</td>\n",
       "      <td>B</td>\n",
       "      <td>F</td>\n",
       "      <td>M</td>\n",
       "      <td>2016</td>\n",
       "      <td>February</td>\n",
       "      <td>Mostly Cloudy</td>\n",
       "      <td>20.53</td>\n",
       "      <td>&lt;18</td>\n",
       "    </tr>\n",
       "    <tr>\n",
       "      <th>1</th>\n",
       "      <td>31</td>\n",
       "      <td>W</td>\n",
       "      <td>M</td>\n",
       "      <td>M</td>\n",
       "      <td>2016</td>\n",
       "      <td>February</td>\n",
       "      <td>Overcast</td>\n",
       "      <td>32.76</td>\n",
       "      <td>25-30</td>\n",
       "    </tr>\n",
       "    <tr>\n",
       "      <th>2</th>\n",
       "      <td>22</td>\n",
       "      <td>W</td>\n",
       "      <td>M</td>\n",
       "      <td>F</td>\n",
       "      <td>2016</td>\n",
       "      <td>April</td>\n",
       "      <td>Light Rain</td>\n",
       "      <td>50.96</td>\n",
       "      <td>&lt;18</td>\n",
       "    </tr>\n",
       "    <tr>\n",
       "      <th>3</th>\n",
       "      <td>36</td>\n",
       "      <td>W</td>\n",
       "      <td>M</td>\n",
       "      <td>M</td>\n",
       "      <td>2016</td>\n",
       "      <td>April</td>\n",
       "      <td>Overcast</td>\n",
       "      <td>39.39</td>\n",
       "      <td>30-35</td>\n",
       "    </tr>\n",
       "    <tr>\n",
       "      <th>4</th>\n",
       "      <td>60</td>\n",
       "      <td>W</td>\n",
       "      <td>M</td>\n",
       "      <td>M</td>\n",
       "      <td>2016</td>\n",
       "      <td>April</td>\n",
       "      <td>Overcast</td>\n",
       "      <td>32.63</td>\n",
       "      <td>50-55</td>\n",
       "    </tr>\n",
       "  </tbody>\n",
       "</table>\n",
       "</div>"
      ],
      "text/plain": [
       "   Age Race Gender Offenses Severity  Arrest Year Arrest Month  \\\n",
       "0   24    B      F                 M         2016     February   \n",
       "1   31    W      M                 M         2016     February   \n",
       "2   22    W      M                 F         2016        April   \n",
       "3   36    W      M                 M         2016        April   \n",
       "4   60    W      M                 M         2016        April   \n",
       "\n",
       "  Weather Condition  Temperature Age_group  \n",
       "0     Mostly Cloudy        20.53       <18  \n",
       "1          Overcast        32.76     25-30  \n",
       "2        Light Rain        50.96       <18  \n",
       "3          Overcast        39.39     30-35  \n",
       "4          Overcast        32.63     50-55  "
      ]
     },
     "execution_count": 22,
     "metadata": {},
     "output_type": "execute_result"
    }
   ],
   "source": [
    "crime_df[\"Age_group\"] = pd.cut(crime_df[\"Age\"], bins, labels = group_labels) \n",
    "crime_df.head()"
   ]
  },
  {
   "cell_type": "code",
   "execution_count": null,
   "metadata": {},
   "outputs": [],
   "source": []
  },
  {
   "cell_type": "code",
   "execution_count": null,
   "metadata": {},
   "outputs": [],
   "source": [
    "#{'A':'Asian','B':'Black','H':'Hispanic/Latino','I':'American Indian or Alaskan Native','O':'Others', 'U':'Unknown', 'W':'White'}"
   ]
  },
  {
   "cell_type": "code",
   "execution_count": null,
   "metadata": {},
   "outputs": [],
   "source": []
  },
  {
   "cell_type": "code",
   "execution_count": 23,
   "metadata": {},
   "outputs": [
    {
     "ename": "NameError",
     "evalue": "name 'renamed_race_df' is not defined",
     "output_type": "error",
     "traceback": [
      "\u001b[1;31m---------------------------------------------------------------------------\u001b[0m",
      "\u001b[1;31mNameError\u001b[0m                                 Traceback (most recent call last)",
      "\u001b[1;32m<ipython-input-23-7577145eb137>\u001b[0m in \u001b[0;36m<module>\u001b[1;34m\u001b[0m\n\u001b[1;32m----> 1\u001b[1;33m \u001b[0mfelonies\u001b[0m \u001b[1;33m=\u001b[0m \u001b[0mrenamed_race_df\u001b[0m\u001b[1;33m[\u001b[0m\u001b[1;33m:\u001b[0m\u001b[1;36m1\u001b[0m\u001b[1;33m]\u001b[0m\u001b[1;33m.\u001b[0m\u001b[0mvalues\u001b[0m\u001b[1;33m[\u001b[0m\u001b[1;36m0\u001b[0m\u001b[1;33m]\u001b[0m\u001b[1;33m\u001b[0m\u001b[1;33m\u001b[0m\u001b[0m\n\u001b[0m\u001b[0;32m      2\u001b[0m \u001b[0mfelonies\u001b[0m\u001b[1;33m\u001b[0m\u001b[1;33m\u001b[0m\u001b[0m\n",
      "\u001b[1;31mNameError\u001b[0m: name 'renamed_race_df' is not defined"
     ]
    }
   ],
   "source": [
    "felonies = renamed_race_df[:1].values[0]\n",
    "felonies"
   ]
  },
  {
   "cell_type": "code",
   "execution_count": null,
   "metadata": {
    "scrolled": true
   },
   "outputs": [],
   "source": [
    "misdemeanor = renamed_race_df[1:2].values[0]\n",
    "misdemeanor"
   ]
  },
  {
   "cell_type": "code",
   "execution_count": null,
   "metadata": {},
   "outputs": [],
   "source": [
    "murder = renamed_race_df[2:3].values[0]\n",
    "murder"
   ]
  },
  {
   "cell_type": "code",
   "execution_count": null,
   "metadata": {},
   "outputs": [],
   "source": [
    "number_of_x = np.arange(7)\n",
    "p2 = plt.bar(number_of_x, misdemeanor, .35)\n",
    "p1 = plt.bar(number_of_x, felonies, .35)\n",
    "p3 = plt.bar(number_of_x, murder, .35)\n",
    "race_plot = plt.xticks(number_of_x, race_df.columns, rotation=45)"
   ]
  },
  {
   "cell_type": "code",
   "execution_count": null,
   "metadata": {},
   "outputs": [],
   "source": []
  },
  {
   "cell_type": "code",
   "execution_count": null,
   "metadata": {},
   "outputs": [],
   "source": []
  },
  {
   "cell_type": "code",
   "execution_count": null,
   "metadata": {},
   "outputs": [],
   "source": []
  },
  {
   "cell_type": "code",
   "execution_count": null,
   "metadata": {},
   "outputs": [],
   "source": []
  },
  {
   "cell_type": "code",
   "execution_count": null,
   "metadata": {},
   "outputs": [],
   "source": []
  },
  {
   "cell_type": "code",
   "execution_count": null,
   "metadata": {},
   "outputs": [],
   "source": []
  },
  {
   "cell_type": "code",
   "execution_count": null,
   "metadata": {},
   "outputs": [],
   "source": []
  },
  {
   "cell_type": "code",
   "execution_count": null,
   "metadata": {},
   "outputs": [],
   "source": [
    "#PH# Crime Frequency vs Time of Year (seasonality)\n",
    "#crime_plot = full_crime_df.groupby([\"Arrest Year\",\"Arrest Month\"]).count().stack().plot.bar()\n",
    "#crime_plot.set_xlabel('Arrest Year')\n",
    "#crime_plot.set_ylabel('OFFENSES')\n",
    "#crime_plot.set_title('crime vs time of year')"
   ]
  },
  {
   "cell_type": "code",
   "execution_count": 24,
   "metadata": {},
   "outputs": [
    {
     "data": {
      "text/html": [
       "<div>\n",
       "<style scoped>\n",
       "    .dataframe tbody tr th:only-of-type {\n",
       "        vertical-align: middle;\n",
       "    }\n",
       "\n",
       "    .dataframe tbody tr th {\n",
       "        vertical-align: top;\n",
       "    }\n",
       "\n",
       "    .dataframe thead th {\n",
       "        text-align: right;\n",
       "    }\n",
       "</style>\n",
       "<table border=\"1\" class=\"dataframe\">\n",
       "  <thead>\n",
       "    <tr style=\"text-align: right;\">\n",
       "      <th></th>\n",
       "      <th>Offenses Severity</th>\n",
       "      <th>Arrest Year</th>\n",
       "      <th>Arrest Month</th>\n",
       "    </tr>\n",
       "  </thead>\n",
       "  <tbody>\n",
       "    <tr>\n",
       "      <th>0</th>\n",
       "      <td>M</td>\n",
       "      <td>2016</td>\n",
       "      <td>February</td>\n",
       "    </tr>\n",
       "    <tr>\n",
       "      <th>1</th>\n",
       "      <td>M</td>\n",
       "      <td>2016</td>\n",
       "      <td>February</td>\n",
       "    </tr>\n",
       "    <tr>\n",
       "      <th>2</th>\n",
       "      <td>F</td>\n",
       "      <td>2016</td>\n",
       "      <td>April</td>\n",
       "    </tr>\n",
       "    <tr>\n",
       "      <th>3</th>\n",
       "      <td>M</td>\n",
       "      <td>2016</td>\n",
       "      <td>April</td>\n",
       "    </tr>\n",
       "    <tr>\n",
       "      <th>4</th>\n",
       "      <td>M</td>\n",
       "      <td>2016</td>\n",
       "      <td>April</td>\n",
       "    </tr>\n",
       "  </tbody>\n",
       "</table>\n",
       "</div>"
      ],
      "text/plain": [
       "  Offenses Severity  Arrest Year Arrest Month\n",
       "0                 M         2016     February\n",
       "1                 M         2016     February\n",
       "2                 F         2016        April\n",
       "3                 M         2016        April\n",
       "4                 M         2016        April"
      ]
     },
     "execution_count": 24,
     "metadata": {},
     "output_type": "execute_result"
    }
   ],
   "source": [
    "crime_df1 = new_crime_df.loc[:,[\"Offenses Severity\", \"Arrest Year\", \"Arrest Month\"]]\n",
    "crime_df1.head()"
   ]
  },
  {
   "cell_type": "code",
   "execution_count": 25,
   "metadata": {},
   "outputs": [
    {
     "data": {
      "text/html": [
       "<div>\n",
       "<style scoped>\n",
       "    .dataframe tbody tr th:only-of-type {\n",
       "        vertical-align: middle;\n",
       "    }\n",
       "\n",
       "    .dataframe tbody tr th {\n",
       "        vertical-align: top;\n",
       "    }\n",
       "\n",
       "    .dataframe thead th {\n",
       "        text-align: right;\n",
       "    }\n",
       "</style>\n",
       "<table border=\"1\" class=\"dataframe\">\n",
       "  <thead>\n",
       "    <tr style=\"text-align: right;\">\n",
       "      <th>Arrest Month</th>\n",
       "      <th>April</th>\n",
       "      <th>August</th>\n",
       "      <th>December</th>\n",
       "      <th>February</th>\n",
       "      <th>January</th>\n",
       "      <th>July</th>\n",
       "      <th>June</th>\n",
       "      <th>March</th>\n",
       "      <th>May</th>\n",
       "      <th>November</th>\n",
       "      <th>October</th>\n",
       "      <th>September</th>\n",
       "    </tr>\n",
       "    <tr>\n",
       "      <th>Offenses Severity</th>\n",
       "      <th></th>\n",
       "      <th></th>\n",
       "      <th></th>\n",
       "      <th></th>\n",
       "      <th></th>\n",
       "      <th></th>\n",
       "      <th></th>\n",
       "      <th></th>\n",
       "      <th></th>\n",
       "      <th></th>\n",
       "      <th></th>\n",
       "      <th></th>\n",
       "    </tr>\n",
       "  </thead>\n",
       "  <tbody>\n",
       "    <tr>\n",
       "      <th>F</th>\n",
       "      <td>327.0</td>\n",
       "      <td>535.0</td>\n",
       "      <td>480.0</td>\n",
       "      <td>359.0</td>\n",
       "      <td>433.0</td>\n",
       "      <td>401.0</td>\n",
       "      <td>344.0</td>\n",
       "      <td>416.0</td>\n",
       "      <td>418.0</td>\n",
       "      <td>475.0</td>\n",
       "      <td>595.0</td>\n",
       "      <td>593.0</td>\n",
       "    </tr>\n",
       "    <tr>\n",
       "      <th>M</th>\n",
       "      <td>964.0</td>\n",
       "      <td>1272.0</td>\n",
       "      <td>1194.0</td>\n",
       "      <td>847.0</td>\n",
       "      <td>863.0</td>\n",
       "      <td>995.0</td>\n",
       "      <td>1010.0</td>\n",
       "      <td>899.0</td>\n",
       "      <td>1085.0</td>\n",
       "      <td>1279.0</td>\n",
       "      <td>1339.0</td>\n",
       "      <td>1352.0</td>\n",
       "    </tr>\n",
       "    <tr>\n",
       "      <th>Murder of 1st Degree</th>\n",
       "      <td>0.0</td>\n",
       "      <td>2.0</td>\n",
       "      <td>0.0</td>\n",
       "      <td>0.0</td>\n",
       "      <td>0.0</td>\n",
       "      <td>0.0</td>\n",
       "      <td>0.0</td>\n",
       "      <td>0.0</td>\n",
       "      <td>0.0</td>\n",
       "      <td>0.0</td>\n",
       "      <td>0.0</td>\n",
       "      <td>0.0</td>\n",
       "    </tr>\n",
       "  </tbody>\n",
       "</table>\n",
       "</div>"
      ],
      "text/plain": [
       "Arrest Month          April  August  December  February  January   July  \\\n",
       "Offenses Severity                                                         \n",
       "F                     327.0   535.0     480.0     359.0    433.0  401.0   \n",
       "M                     964.0  1272.0    1194.0     847.0    863.0  995.0   \n",
       "Murder of 1st Degree    0.0     2.0       0.0       0.0      0.0    0.0   \n",
       "\n",
       "Arrest Month            June  March     May  November  October  September  \n",
       "Offenses Severity                                                          \n",
       "F                      344.0  416.0   418.0     475.0    595.0      593.0  \n",
       "M                     1010.0  899.0  1085.0    1279.0   1339.0     1352.0  \n",
       "Murder of 1st Degree     0.0    0.0     0.0       0.0      0.0        0.0  "
      ]
     },
     "execution_count": 25,
     "metadata": {},
     "output_type": "execute_result"
    }
   ],
   "source": [
    "df2=crime_df1.groupby(['Offenses Severity', 'Arrest Month'])['Offenses Severity'].count().unstack('Arrest Month').fillna(0)\n",
    "df2\n",
    "#df2[['off','mth']].plot(kind='bar', stacked=True)\n",
    "#df2[[\"offenses\",\"Month\"]].plot(kind='bar', stacked=True)"
   ]
  },
  {
   "cell_type": "code",
   "execution_count": 26,
   "metadata": {},
   "outputs": [
    {
     "data": {
      "text/html": [
       "<div>\n",
       "<style scoped>\n",
       "    .dataframe tbody tr th:only-of-type {\n",
       "        vertical-align: middle;\n",
       "    }\n",
       "\n",
       "    .dataframe tbody tr th {\n",
       "        vertical-align: top;\n",
       "    }\n",
       "\n",
       "    .dataframe thead th {\n",
       "        text-align: right;\n",
       "    }\n",
       "</style>\n",
       "<table border=\"1\" class=\"dataframe\">\n",
       "  <thead>\n",
       "    <tr style=\"text-align: right;\">\n",
       "      <th>Arrest Month</th>\n",
       "      <th>April</th>\n",
       "      <th>August</th>\n",
       "      <th>December</th>\n",
       "      <th>February</th>\n",
       "      <th>January</th>\n",
       "      <th>July</th>\n",
       "      <th>June</th>\n",
       "      <th>March</th>\n",
       "      <th>May</th>\n",
       "      <th>November</th>\n",
       "      <th>October</th>\n",
       "      <th>September</th>\n",
       "    </tr>\n",
       "    <tr>\n",
       "      <th>Offenses Severity</th>\n",
       "      <th></th>\n",
       "      <th></th>\n",
       "      <th></th>\n",
       "      <th></th>\n",
       "      <th></th>\n",
       "      <th></th>\n",
       "      <th></th>\n",
       "      <th></th>\n",
       "      <th></th>\n",
       "      <th></th>\n",
       "      <th></th>\n",
       "      <th></th>\n",
       "    </tr>\n",
       "  </thead>\n",
       "  <tbody>\n",
       "    <tr>\n",
       "      <th>F</th>\n",
       "      <td>327.0</td>\n",
       "      <td>535.0</td>\n",
       "      <td>480.0</td>\n",
       "      <td>359.0</td>\n",
       "      <td>433.0</td>\n",
       "      <td>401.0</td>\n",
       "      <td>344.0</td>\n",
       "      <td>416.0</td>\n",
       "      <td>418.0</td>\n",
       "      <td>475.0</td>\n",
       "      <td>595.0</td>\n",
       "      <td>593.0</td>\n",
       "    </tr>\n",
       "    <tr>\n",
       "      <th>M</th>\n",
       "      <td>964.0</td>\n",
       "      <td>1272.0</td>\n",
       "      <td>1194.0</td>\n",
       "      <td>847.0</td>\n",
       "      <td>863.0</td>\n",
       "      <td>995.0</td>\n",
       "      <td>1010.0</td>\n",
       "      <td>899.0</td>\n",
       "      <td>1085.0</td>\n",
       "      <td>1279.0</td>\n",
       "      <td>1339.0</td>\n",
       "      <td>1352.0</td>\n",
       "    </tr>\n",
       "    <tr>\n",
       "      <th>Murder of 1st Degree</th>\n",
       "      <td>0.0</td>\n",
       "      <td>2.0</td>\n",
       "      <td>0.0</td>\n",
       "      <td>0.0</td>\n",
       "      <td>0.0</td>\n",
       "      <td>0.0</td>\n",
       "      <td>0.0</td>\n",
       "      <td>0.0</td>\n",
       "      <td>0.0</td>\n",
       "      <td>0.0</td>\n",
       "      <td>0.0</td>\n",
       "      <td>0.0</td>\n",
       "    </tr>\n",
       "  </tbody>\n",
       "</table>\n",
       "</div>"
      ],
      "text/plain": [
       "Arrest Month          April  August  December  February  January   July  \\\n",
       "Offenses Severity                                                         \n",
       "F                     327.0   535.0     480.0     359.0    433.0  401.0   \n",
       "M                     964.0  1272.0    1194.0     847.0    863.0  995.0   \n",
       "Murder of 1st Degree    0.0     2.0       0.0       0.0      0.0    0.0   \n",
       "\n",
       "Arrest Month            June  March     May  November  October  September  \n",
       "Offenses Severity                                                          \n",
       "F                      344.0  416.0   418.0     475.0    595.0      593.0  \n",
       "M                     1010.0  899.0  1085.0    1279.0   1339.0     1352.0  \n",
       "Murder of 1st Degree     0.0    0.0     0.0       0.0      0.0        0.0  "
      ]
     },
     "execution_count": 26,
     "metadata": {},
     "output_type": "execute_result"
    }
   ],
   "source": [
    "df2=crime_df1.groupby(['Offenses Severity', 'Arrest Month'])['Offenses Severity'].count().unstack('Arrest Month').fillna(0)\n",
    "df2"
   ]
  },
  {
   "cell_type": "code",
   "execution_count": 27,
   "metadata": {},
   "outputs": [],
   "source": [
    "order_list = [\"January\", \"February\", \"March\", \"April\", \n",
    "              \"May\", \"June\", \"July\", \"August\", \"September\", \n",
    "              \"October\", \"November\", \"December\"] "
   ]
  },
  {
   "cell_type": "code",
   "execution_count": 28,
   "metadata": {},
   "outputs": [],
   "source": [
    "df2 = crime_df.groupby(['Offenses Severity', 'Arrest Month'])['Offenses Severity'].count().unstack('Arrest Month').fillna(0)\n",
    "df2 = df2[order_list]"
   ]
  },
  {
   "cell_type": "code",
   "execution_count": 29,
   "metadata": {},
   "outputs": [
    {
     "data": {
      "text/plain": [
       "array([433., 359., 416., 327., 418., 344., 401., 535., 593., 595., 475.,\n",
       "       480.])"
      ]
     },
     "execution_count": 29,
     "metadata": {},
     "output_type": "execute_result"
    }
   ],
   "source": [
    "felonies = df2[:1].values[0]\n",
    "felonies"
   ]
  },
  {
   "cell_type": "code",
   "execution_count": 30,
   "metadata": {},
   "outputs": [
    {
     "data": {
      "text/plain": [
       "array([ 863.,  847.,  899.,  964., 1085., 1010.,  995., 1272., 1352.,\n",
       "       1339., 1279., 1194.])"
      ]
     },
     "execution_count": 30,
     "metadata": {},
     "output_type": "execute_result"
    }
   ],
   "source": [
    "misdemeanor = df2[1:2].values[0]\n",
    "misdemeanor"
   ]
  },
  {
   "cell_type": "code",
   "execution_count": 31,
   "metadata": {},
   "outputs": [
    {
     "data": {
      "text/plain": [
       "array([0., 0., 0., 0., 0., 0., 0., 2., 0., 0., 0., 0.])"
      ]
     },
     "execution_count": 31,
     "metadata": {},
     "output_type": "execute_result"
    }
   ],
   "source": [
    "murder = df2[2:3].values[0]\n",
    "murder"
   ]
  },
  {
   "cell_type": "code",
   "execution_count": 32,
   "metadata": {},
   "outputs": [],
   "source": [
    "import matplotlib.pyplot as plt\n"
   ]
  },
  {
   "cell_type": "code",
   "execution_count": 33,
   "metadata": {},
   "outputs": [],
   "source": [
    "import numpy as np"
   ]
  },
  {
   "cell_type": "code",
   "execution_count": 34,
   "metadata": {},
   "outputs": [
    {
     "data": {
      "text/plain": [
       "Index(['January', 'February', 'March', 'April', 'May', 'June', 'July',\n",
       "       'August', 'September', 'October', 'November', 'December'],\n",
       "      dtype='object', name='Arrest Month')"
      ]
     },
     "execution_count": 34,
     "metadata": {},
     "output_type": "execute_result"
    }
   ],
   "source": [
    "df2.columns"
   ]
  },
  {
   "cell_type": "code",
   "execution_count": 35,
   "metadata": {},
   "outputs": [
    {
     "data": {
      "image/png": "[encoded data removed]",
      "text/plain": [
       "<Figure size 432x288 with 1 Axes>"
      ]
     },
     "metadata": {
      "needs_background": "light"
     },
     "output_type": "display_data"
    }
   ],
   "source": [
    "number_of_x = np.arange(12)\n",
    "p2 = plt.bar(number_of_x, misdemeanor, .35)\n",
    "p1 = plt.bar(number_of_x, felonies, .35)\n",
    "p3 = plt.bar(number_of_x, murder, .35)\n",
    "month_plot = plt.xticks(number_of_x, df2.columns, rotation=45)\n"
   ]
  },
  {
   "cell_type": "code",
   "execution_count": null,
   "metadata": {},
   "outputs": [],
   "source": []
  },
  {
   "cell_type": "code",
   "execution_count": 36,
   "metadata": {},
   "outputs": [
    {
     "data": {
      "text/html": [
       "<div>\n",
       "<style scoped>\n",
       "    .dataframe tbody tr th:only-of-type {\n",
       "        vertical-align: middle;\n",
       "    }\n",
       "\n",
       "    .dataframe tbody tr th {\n",
       "        vertical-align: top;\n",
       "    }\n",
       "\n",
       "    .dataframe thead th {\n",
       "        text-align: right;\n",
       "    }\n",
       "</style>\n",
       "<table border=\"1\" class=\"dataframe\">\n",
       "  <thead>\n",
       "    <tr style=\"text-align: right;\">\n",
       "      <th>Arrest Year</th>\n",
       "      <th>2016</th>\n",
       "      <th>2017</th>\n",
       "      <th>2018</th>\n",
       "    </tr>\n",
       "    <tr>\n",
       "      <th>Offenses Severity</th>\n",
       "      <th></th>\n",
       "      <th></th>\n",
       "      <th></th>\n",
       "    </tr>\n",
       "  </thead>\n",
       "  <tbody>\n",
       "    <tr>\n",
       "      <th>F</th>\n",
       "      <td>882.0</td>\n",
       "      <td>2462.0</td>\n",
       "      <td>2032.0</td>\n",
       "    </tr>\n",
       "    <tr>\n",
       "      <th>M</th>\n",
       "      <td>1949.0</td>\n",
       "      <td>5812.0</td>\n",
       "      <td>5338.0</td>\n",
       "    </tr>\n",
       "    <tr>\n",
       "      <th>Murder of 1st Degree</th>\n",
       "      <td>0.0</td>\n",
       "      <td>0.0</td>\n",
       "      <td>2.0</td>\n",
       "    </tr>\n",
       "  </tbody>\n",
       "</table>\n",
       "</div>"
      ],
      "text/plain": [
       "Arrest Year             2016    2017    2018\n",
       "Offenses Severity                           \n",
       "F                      882.0  2462.0  2032.0\n",
       "M                     1949.0  5812.0  5338.0\n",
       "Murder of 1st Degree     0.0     0.0     2.0"
      ]
     },
     "execution_count": 36,
     "metadata": {},
     "output_type": "execute_result"
    }
   ],
   "source": [
    "df3 = crime_df.groupby(['Offenses Severity', 'Arrest Year'])['Offenses Severity'].count().unstack('Arrest Year').fillna(0)\n",
    "df3"
   ]
  },
  {
   "cell_type": "code",
   "execution_count": 37,
   "metadata": {},
   "outputs": [
    {
     "data": {
      "text/plain": [
       "array([ 882., 2462., 2032.])"
      ]
     },
     "execution_count": 37,
     "metadata": {},
     "output_type": "execute_result"
    }
   ],
   "source": [
    "felonies = df3[:1].values[0]\n",
    "felonies"
   ]
  },
  {
   "cell_type": "code",
   "execution_count": 38,
   "metadata": {},
   "outputs": [
    {
     "data": {
      "text/plain": [
       "array([1949., 5812., 5338.])"
      ]
     },
     "execution_count": 38,
     "metadata": {},
     "output_type": "execute_result"
    }
   ],
   "source": [
    "misdemeanor = df3[1:2].values[0]\n",
    "misdemeanor"
   ]
  },
  {
   "cell_type": "code",
   "execution_count": 39,
   "metadata": {},
   "outputs": [
    {
     "data": {
      "text/plain": [
       "array([0., 0., 2.])"
      ]
     },
     "execution_count": 39,
     "metadata": {},
     "output_type": "execute_result"
    }
   ],
   "source": [
    "murder = df3[2:3].values[0]\n",
    "murder"
   ]
  },
  {
   "cell_type": "code",
   "execution_count": 41,
   "metadata": {},
   "outputs": [
    {
     "data": {
      "image/png": "[encoded data removed]",
      "text/plain": [
       "<Figure size 432x288 with 1 Axes>"
      ]
     },
     "metadata": {
      "needs_background": "light"
     },
     "output_type": "display_data"
    }
   ],
   "source": [
    "number_of_x = np.arange(3)\n",
    "p2 = plt.bar(number_of_x, misdemeanor, .35)\n",
    "p1 = plt.bar(number_of_x, felonies, .35)\n",
    "p3 = plt.bar(number_of_x, murder, .35)\n",
    "year_plot = plt.xticks(number_of_x, df3.columns, rotation=45)"
   ]
  },
  {
   "cell_type": "code",
   "execution_count": null,
   "metadata": {},
   "outputs": [],
   "source": []
  },
  {
   "cell_type": "code",
   "execution_count": null,
   "metadata": {},
   "outputs": [],
   "source": []
  },
  {
   "cell_type": "code",
   "execution_count": null,
   "metadata": {},
   "outputs": [],
   "source": []
  },
  {
   "cell_type": "code",
   "execution_count": null,
   "metadata": {},
   "outputs": [],
   "source": []
  },
  {
   "cell_type": "code",
   "execution_count": null,
   "metadata": {},
   "outputs": [],
   "source": []
  },
  {
   "cell_type": "code",
   "execution_count": null,
   "metadata": {},
   "outputs": [],
   "source": []
  },
  {
   "cell_type": "code",
   "execution_count": null,
   "metadata": {},
   "outputs": [],
   "source": []
  },
  {
   "cell_type": "code",
   "execution_count": null,
   "metadata": {},
   "outputs": [],
   "source": []
  },
  {
   "cell_type": "code",
   "execution_count": null,
   "metadata": {},
   "outputs": [],
   "source": []
  }
 ],
 "metadata": {
  "kernelspec": {
   "display_name": "Python 3",
   "language": "python",
   "name": "python3"
  },
  "language_info": {
   "codemirror_mode": {
    "name": "ipython",
    "version": 3
   },
   "file_extension": ".py",
   "mimetype": "text/x-python",
   "name": "python",
   "nbconvert_exporter": "python",
   "pygments_lexer": "ipython3",
   "version": "3.7.1"
  }
 },
 "nbformat": 4,
 "nbformat_minor": 2
}
